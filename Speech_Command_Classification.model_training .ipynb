{
    "nbformat_minor": 2, 
    "cells": [
        {
            "source": "## Model Training\n\nImport the Required Libraries/Modules", 
            "cell_type": "markdown", 
            "metadata": {}
        }, 
        {
            "execution_count": 1, 
            "cell_type": "code", 
            "metadata": {}, 
            "outputs": [
                {
                    "output_type": "stream", 
                    "name": "stderr", 
                    "text": "Using TensorFlow backend.\n"
                }
            ], 
            "source": "import numpy as np\nimport numpy.random as nr\nfrom keras.callbacks import ModelCheckpoint, TensorBoard, EarlyStopping\nfrom keras.utils import to_categorical, plot_model\nfrom keras import backend as K\nfrom time import time\nfrom collections import Counter\nfrom models import ResNet\nimport matplotlib.pyplot as plt\nimport os\n%matplotlib inline\nfrom sklearn.metrics import classification_report, confusion_matrix, accuracy_score\nimport pickle\nfrom sklearn import svm, preprocessing\nimport pyspark"
        }, 
        {
            "source": "## SVM Traning ", 
            "cell_type": "markdown", 
            "metadata": {}
        }, 
        {
            "source": "Import FFT data from last stage:", 
            "cell_type": "markdown", 
            "metadata": {}
        }, 
        {
            "execution_count": 15, 
            "cell_type": "code", 
            "metadata": {}, 
            "outputs": [], 
            "source": "X_train = np.load('./data/X_train_fft.npy')\nY_train = np.load('./data/Y_train_fft.npy')\nX_test = np.load('./data/X_val_fft.npy')\ny_test = np.load('./data/Y_val_fft.npy')"
        }, 
        {
            "source": "Models like this work better with scaled data so we fit a standard scaler with our training data", 
            "cell_type": "markdown", 
            "metadata": {}
        }, 
        {
            "execution_count": 16, 
            "cell_type": "code", 
            "metadata": {}, 
            "outputs": [], 
            "source": "scale = preprocessing.StandardScaler()\nscale.fit(X_train)\nX_train = scale.transform(X_train)"
        }, 
        {
            "source": "Now we load and train the saved model and view the configuration it gives us", 
            "cell_type": "markdown", 
            "metadata": {}
        }, 
        {
            "execution_count": 17, 
            "cell_type": "code", 
            "metadata": {}, 
            "outputs": [
                {
                    "execution_count": 17, 
                    "metadata": {}, 
                    "data": {
                        "text/plain": "OneVsOneClassifier(estimator=LinearSVC(C=10, class_weight=None, dual=True, fit_intercept=True,\n     intercept_scaling=1, loss='squared_hinge', max_iter=10,\n     multi_class='ovr', penalty='l2', random_state=0, tol=0.0001,\n     verbose=0),\n          n_jobs=None)"
                    }, 
                    "output_type": "execute_result"
                }
            ], 
            "source": "nr.seed(1115)\nfilename = './models/svm.sav'\nsvm_mod = pickle.load(open(filename,'rb'))\nsvm_mod.fit(X_train, Y_train)"
        }, 
        {
            "source": "save the trained model", 
            "cell_type": "markdown", 
            "metadata": {}
        }, 
        {
            "execution_count": null, 
            "cell_type": "code", 
            "metadata": {}, 
            "outputs": [], 
            "source": "filename = './models/svm_trained.sav'\npickle.dump(svm_mod, open(filename, 'wb'))"
        }, 
        {
            "source": "## MLP Neural Network Training ", 
            "cell_type": "markdown", 
            "metadata": {}
        }, 
        {
            "source": "First we load the FFT data from the last stage:", 
            "cell_type": "markdown", 
            "metadata": {}
        }, 
        {
            "execution_count": 2, 
            "cell_type": "code", 
            "metadata": {}, 
            "outputs": [], 
            "source": "X_train = np.load('./data/X_train_fft.npy')\nY_train = np.load('./data/Y_train_fft.npy')\nX_test = np.load('./data/X_val_fft.npy')\ny_test = np.load('./data/Y_val_fft.npy')"
        }, 
        {
            "source": "Then we scale the training data as we did with the SVM", 
            "cell_type": "markdown", 
            "metadata": {}
        }, 
        {
            "execution_count": 3, 
            "cell_type": "code", 
            "metadata": {}, 
            "outputs": [], 
            "source": "scale = preprocessing.StandardScaler()\nscale.fit(X_train)\nX_train = scale.transform(X_train)"
        }, 
        {
            "source": "We load fit the model with the scaled data", 
            "cell_type": "markdown", 
            "metadata": {}
        }, 
        {
            "execution_count": 4, 
            "cell_type": "code", 
            "metadata": {}, 
            "outputs": [
                {
                    "output_type": "stream", 
                    "name": "stderr", 
                    "text": "/gpfs/fs01/user/sce8-5e3b8351a3eeda-ba755807525d/.local/lib/python2.7/site-packages/sklearn/neural_network/multilayer_perceptron.py:562: ConvergenceWarning: Stochastic Optimizer: Maximum iterations (200) reached and the optimization hasn't converged yet.\n  % self.max_iter, ConvergenceWarning)\n"
                }, 
                {
                    "execution_count": 4, 
                    "metadata": {}, 
                    "data": {
                        "text/plain": "MLPClassifier(activation='relu', alpha=0.0001, batch_size='auto', beta_1=0.9,\n       beta_2=0.999, early_stopping=False, epsilon=1e-08,\n       hidden_layer_sizes=(50,), learning_rate='constant',\n       learning_rate_init=0.001, max_iter=200, momentum=0.9,\n       n_iter_no_change=10, nesterovs_momentum=True, power_t=0.5,\n       random_state=None, shuffle=True, solver='adam', tol=0.0001,\n       validation_fraction=0.1, verbose=False, warm_start=False)"
                    }, 
                    "output_type": "execute_result"
                }
            ], 
            "source": "nr.seed(1115)\nfilename = './models/Neural Network.sav'\nnn_mod = pickle.load(open(filename, 'rb'))\nnn_mod.fit(X_train, Y_train)"
        }, 
        {
            "execution_count": 5, 
            "cell_type": "code", 
            "metadata": {}, 
            "outputs": [], 
            "source": "filename = './models/Neural_Network_trained.sav'\npickle.dump(nn_mod, open(filename, 'wb'))"
        }, 
        {
            "source": "Already, it is apparent that the model will not give the best predictions due to the convergence warning we received.", 
            "cell_type": "markdown", 
            "metadata": {}
        }, 
        {
            "source": "## Deep CNN Training (RESNET)", 
            "cell_type": "markdown", 
            "metadata": {}
        }, 
        {
            "source": "Import the Spectrogram Data from the last stage:", 
            "cell_type": "markdown", 
            "metadata": {}
        }, 
        {
            "execution_count": 29, 
            "cell_type": "code", 
            "metadata": {}, 
            "outputs": [], 
            "source": "X_train = np.load ('./data/X_train.npy')\nY_train = np.load('./data/Y_train.npy')\nX_val = np.load ('./data/X_val.npy')\nY_val = np.load('./data/Y_val.npy')"
        }, 
        {
            "source": "Create list with classifation categories recognised by the model and all label classes present:", 
            "cell_type": "markdown", 
            "metadata": {}
        }, 
        {
            "execution_count": 30, 
            "cell_type": "code", 
            "metadata": {}, 
            "outputs": [
                {
                    "output_type": "stream", 
                    "name": "stdout", 
                    "text": "['yes', 'no', 'up', 'down', 'left', 'right', 'on', 'off', 'stop', 'go', 'silence', 'eight', 'one', 'happy', 'cat', 'sheila', 'three', 'nine', 'two', 'marvin', 'house', 'dog', 'bird', 'bed', 'tree', 'seven', 'wow', 'six', 'five', 'four', 'zero']\n"
                }
            ], 
            "source": "classes = ['yes', 'no', \n           'up', 'down', \n           'left', 'right', \n           'on', 'off', \n           'stop', 'go', \n           'silence', 'unknown']\n\nall_classes = [x for x in classes[:11]]\nfor ind, cl in enumerate(os.listdir('data/train/audio/')):\n    if cl not in classes:\n        all_classes.append(cl)\nprint(all_classes)"
        }, 
        {
            "source": "The training data is very unbalanced with a much larger 'unknown' class.\nkeras has a class_weight paramter in the fit() function that will give higher penalties to missclassifications in underrepresented classes. It takes a dict like this:", 
            "cell_type": "markdown", 
            "metadata": {}
        }, 
        {
            "execution_count": 31, 
            "cell_type": "code", 
            "metadata": {}, 
            "outputs": [], 
            "source": "def get_class_weights(y):\n    counter = Counter(y)\n    majority = max(counter.values())\n    return  {cls: float(majority/count) for cls, count in counter.items()}  \n\nclass_weights = get_class_weights(Y_train)\n"
        }, 
        {
            "execution_count": 37, 
            "cell_type": "code", 
            "metadata": {}, 
            "outputs": [
                {
                    "execution_count": 37, 
                    "metadata": {}, 
                    "data": {
                        "text/plain": "{0: 17.0,\n 1: 17.0,\n 2: 17.0,\n 3: 17.0,\n 4: 17.0,\n 5: 17.0,\n 6: 17.0,\n 7: 17.0,\n 8: 17.0,\n 9: 17.0,\n 11: 1.0}"
                    }, 
                    "output_type": "execute_result"
                }
            ], 
            "source": "class_weights"
        }, 
        {
            "source": "Set the input size and the batch size for the CNN model.", 
            "cell_type": "markdown", 
            "metadata": {}
        }, 
        {
            "execution_count": 35, 
            "cell_type": "code", 
            "metadata": {}, 
            "outputs": [], 
            "source": "input_size = X_train.shape[1:]\nbatch_size = 196"
        }, 
        {
            "source": "\ndeclare filters for each block of blocks and set output size.", 
            "cell_type": "markdown", 
            "metadata": {}
        }, 
        {
            "execution_count": 39, 
            "cell_type": "code", 
            "metadata": {}, 
            "outputs": [], 
            "source": "#adjust these strings to set the names of the saved files\ndate = '0102'\narch = 'resnet8_16_32_Final'"
        }, 
        {
            "source": "Build the model", 
            "cell_type": "markdown", 
            "metadata": {}
        }, 
        {
            "execution_count": 64, 
            "cell_type": "code", 
            "metadata": {}, 
            "outputs": [], 
            "source": "\nfrom keras.models import load_model\nsr = load_model('./models/RESNET.h5')"
        }, 
        {
            "execution_count": 65, 
            "cell_type": "code", 
            "metadata": {}, 
            "outputs": [], 
            "source": "# to save a png of the model you need pydot and graphviz installed\nplot_model(sr, \n           to_file = './models/{}_{}.png'.format(arch,date), \n           show_shapes = True)"
        }, 
        {
            "execution_count": 80, 
            "cell_type": "code", 
            "metadata": {}, 
            "outputs": [], 
            "source": "#callbacks\ncheckpointer = ModelCheckpoint(filepath='./models/{}_{}_best.h5'.format(arch, date),\n                               verbose=0,\n                               save_best_only=True)\n   \nearlystopping = EarlyStopping()\n\ntensorboard = TensorBoard(log_dir = './logs/{}_{}'.format(date, time()), \n                          histogram_freq = 0, \n                          write_graph = True, \n                          write_images = True)"
        }, 
        {
            "source": "train the model\nthe history object stores training data for later access, like plotting training curves", 
            "cell_type": "markdown", 
            "metadata": {}
        }, 
        {
            "execution_count": 67, 
            "cell_type": "code", 
            "metadata": {}, 
            "outputs": [
                {
                    "output_type": "stream", 
                    "name": "stdout", 
                    "text": "Train on 57938 samples, validate on 6798 samples\nEpoch 1/8\n57938/57938 [==============================] - 469s 8ms/step - loss: 7.1657 - acc: 0.4878 - val_loss: 2.4459 - val_acc: 0.4297\nEpoch 2/8\n57938/57938 [==============================] - 458s 8ms/step - loss: 2.2524 - acc: 0.8163 - val_loss: 1.1925 - val_acc: 0.6814\nEpoch 3/8\n57938/57938 [==============================] - 461s 8ms/step - loss: 1.5604 - acc: 0.8726 - val_loss: 0.4011 - val_acc: 0.8692\nEpoch 4/8\n57938/57938 [==============================] - 460s 8ms/step - loss: 1.2932 - acc: 0.8993 - val_loss: 1.8314 - val_acc: 0.5397\nEpoch 5/8\n57938/57938 [==============================] - 461s 8ms/step - loss: 1.0827 - acc: 0.9168 - val_loss: 0.3756 - val_acc: 0.8817\nEpoch 6/8\n57938/57938 [==============================] - 466s 8ms/step - loss: 0.9696 - acc: 0.9253 - val_loss: 0.2344 - val_acc: 0.9278\nEpoch 7/8\n57938/57938 [==============================] - 461s 8ms/step - loss: 0.8924 - acc: 0.9316 - val_loss: 0.3193 - val_acc: 0.9004\nEpoch 8/8\n57938/57938 [==============================] - 460s 8ms/step - loss: 0.7714 - acc: 0.9400 - val_loss: 0.2330 - val_acc: 0.9307\n"
                }
            ], 
            "source": "history = sr.fit(X_train, \n                   to_categorical(Y_train), \n                   batch_size = batch_size, \n                   epochs = 8, \n                   verbose = 1, shuffle = True, \n                   class_weight = class_weights,\n                   validation_data = (X_val, to_categorical(Y_val)), \n                   callbacks = [checkpointer]) # add more callbacks if you want"
        }, 
        {
            "execution_count": 69, 
            "cell_type": "code", 
            "metadata": {}, 
            "outputs": [], 
            "source": "sr.save_weights(\"./models/{}_{}_last.h5\".format(arch, date)) \n"
        }, 
        {
            "source": "plot the training graphs, and save them", 
            "cell_type": "markdown", 
            "metadata": {}
        }, 
        {
            "execution_count": 75, 
            "cell_type": "code", 
            "metadata": {
                "scrolled": true
            }, 
            "outputs": [
                {
                    "output_type": "stream", 
                    "name": "stdout", 
                    "text": "['acc', 'loss', 'val_acc', 'val_loss']\n"
                }, 
                {
                    "output_type": "display_data", 
                    "data": {
                        "image/png": "[encoded data removed]", 
                        "text/plain": "<Figure size 432x288 with 1 Axes>"
                    }, 
                    "metadata": {}
                }, 
                {
                    "output_type": "display_data", 
                    "data": {
                        "image/png": "[encoded data removed]", 
                        "text/plain": "<Figure size 432x288 with 1 Axes>"
                    }, 
                    "metadata": {}
                }
            ], 
            "source": "#%% visualize training\nprint(history.history.keys())\n# summarize history for accuracy\nplt.plot(history.history['acc'])\nplt.plot(history.history['val_acc'])\nplt.title('model accuracy')\nplt.ylabel('accuracy')\nplt.xlabel('epoch')\nplt.legend(['train', 'test'], loc='upper left')\nplt.savefig('graphs/{}_{}_acc.png'.format(arch, date),bbox_inches='tight')\nplt.show()\n# summarize history for loss\nplt.plot(history.history['loss'])\nplt.plot(history.history['val_loss'])\nplt.title('model loss')\nplt.ylabel('loss')\nplt.xlabel('epoch')\nplt.legend(['train', 'test'], loc='upper left')\nplt.savefig('graphs/{}_{}_loss.png'.format(arch, date), bbox_inches='tight')\nplt.show()"
        }, 
        {
            "execution_count": 7, 
            "cell_type": "code", 
            "metadata": {}, 
            "outputs": [], 
            "source": "# The code was removed by Watson Studio for sharing."
        }, 
        {
            "execution_count": 8, 
            "cell_type": "code", 
            "metadata": {}, 
            "outputs": [], 
            "source": "from ibm_botocore.client import Config\nimport ibm_boto3\ncos = ibm_boto3.client(service_name='s3',\n    ibm_api_key_id=credentials_1['IBM_API_KEY_ID'],\n    ibm_service_instance_id=credentials_1['IAM_SERVICE_ID'],\n    ibm_auth_endpoint=credentials_1['IBM_AUTH_ENDPOINT'],\n    config=Config(signature_version='oauth'),\n    endpoint_url=credentials_1['ENDPOINT'])"
        }, 
        {
            "source": "save graphs and trained models to COS", 
            "cell_type": "markdown", 
            "metadata": {}
        }, 
        {
            "execution_count": 71, 
            "cell_type": "code", 
            "metadata": {}, 
            "outputs": [], 
            "source": "cos.upload_file(Filename='models/resnet8_16_32_Final_0102_last.h5',Bucket=credentials_1['BUCKET'],Key='resnet8_16_32_Final_0102_last.h5')\ncos.upload_file(Filename='models/Neural_Network_trained.sav',Bucket=credentials_1['BUCKET'],Key='Neural_Network_trained.sav')\ncos.upload_file(Filename='models/svm_trained.sav',Bucket=credentials_1['BUCKET'],Key='svm_trained.sav')"
        }, 
        {
            "execution_count": 76, 
            "cell_type": "code", 
            "metadata": {}, 
            "outputs": [], 
            "source": "cos.upload_file(Filename='graphs/resnet8_16_32_Final_0102_loss.png',Bucket=credentials_1['BUCKET'],Key='graphs/resnet8_16_32_Final_0102_loss.png')\ncos.upload_file(Filename='graphs/resnet8_16_32_Final_0102_acc.png',Bucket=credentials_1['BUCKET'],Key='graphs/resnet8_16_32_Final_0102_acc.png')\ncos.upload_file(Filename='models/resnet8_16_32_Final_0102.png',Bucket=credentials_1['BUCKET'],Key='models/resnet8_16_32_Final_0102.png')"
        }
    ], 
    "metadata": {
        "kernelspec": {
            "display_name": "Python 2 with Spark 2.1", 
            "name": "python2-spark21", 
            "language": "python"
        }, 
        "language_info": {
            "mimetype": "text/x-python", 
            "nbconvert_exporter": "python", 
            "version": "2.7.14", 
            "name": "python", 
            "file_extension": ".py", 
            "pygments_lexer": "ipython2", 
            "codemirror_mode": {
                "version": 2, 
                "name": "ipython"
            }
        }
    }, 
    "nbformat": 4
}